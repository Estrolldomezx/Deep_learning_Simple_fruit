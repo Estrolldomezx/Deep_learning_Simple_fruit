{
  "nbformat": 4,
  "nbformat_minor": 0,
  "metadata": {
    "accelerator": "GPU",
    "colab": {
      "name": "6110110617_Deep learning.IPYNB",
      "provenance": [],
      "collapsed_sections": [],
      "toc_visible": true,
      "machine_shape": "hm",
      "include_colab_link": true
    },
    "kernelspec": {
      "display_name": "Python 3",
      "language": "python",
      "name": "python3"
    },
    "language_info": {
      "codemirror_mode": {
        "name": "ipython",
        "version": 3
      },
      "file_extension": ".py",
      "mimetype": "text/x-python",
      "name": "python",
      "nbconvert_exporter": "python",
      "pygments_lexer": "ipython3",
      "version": "3.7.3"
    }
  },
  "cells": [
    {
      "cell_type": "markdown",
      "metadata": {
        "id": "view-in-github",
        "colab_type": "text"
      },
      "source": [
        "<a href=\"https://colab.research.google.com/github/Estrolldomezx/Deep_learning_Simple_fruit/blob/master/6110110617_Deep_learning_IPYNB.ipynb\" target=\"_parent\"><img src=\"https://colab.research.google.com/assets/colab-badge.svg\" alt=\"Open In Colab\"/></a>"
      ]
    },
    {
      "cell_type": "code",
      "metadata": {
        "colab_type": "code",
        "id": "jGomdGXF45nu",
        "outputId": "0ff1aa69-c394-472d-cf88-ccacfe355712",
        "colab": {
          "base_uri": "https://localhost:8080/",
          "height": 122
        }
      },
      "source": [
        "from google.colab import drive\n",
        "drive.mount('/content/drive')"
      ],
      "execution_count": 2,
      "outputs": [
        {
          "output_type": "stream",
          "text": [
            "Go to this URL in a browser: https://accounts.google.com/o/oauth2/auth?client_id=947318989803-6bn6qk8qdgf4n4g3pfee6491hc0brc4i.apps.googleusercontent.com&redirect_uri=urn%3aietf%3awg%3aoauth%3a2.0%3aoob&response_type=code&scope=email%20https%3a%2f%2fwww.googleapis.com%2fauth%2fdocs.test%20https%3a%2f%2fwww.googleapis.com%2fauth%2fdrive%20https%3a%2f%2fwww.googleapis.com%2fauth%2fdrive.photos.readonly%20https%3a%2f%2fwww.googleapis.com%2fauth%2fpeopleapi.readonly\n",
            "\n",
            "Enter your authorization code:\n",
            "··········\n",
            "Mounted at /content/drive\n"
          ],
          "name": "stdout"
        }
      ]
    },
    {
      "cell_type": "code",
      "metadata": {
        "colab_type": "code",
        "id": "dzPVPRSB96X9",
        "outputId": "01b432d0-8e26-4f3a-ec80-a5540d1a21a4",
        "colab": {
          "base_uri": "https://localhost:8080/",
          "height": 51
        }
      },
      "source": [
        "!unzip /content/Dataset.zip"
      ],
      "execution_count": 3,
      "outputs": [
        {
          "output_type": "stream",
          "text": [
            "Archive:  /content/Dataset.zip\n",
            "replace test_images.zip? [y]es, [n]o, [A]ll, [N]one, [r]ename: N\n"
          ],
          "name": "stdout"
        }
      ]
    },
    {
      "cell_type": "code",
      "metadata": {
        "colab_type": "code",
        "id": "hC5Q1c4X_BOI",
        "outputId": "063c7531-c683-4d18-83e5-35e561e89432",
        "colab": {
          "base_uri": "https://localhost:8080/",
          "height": 1000
        }
      },
      "source": [
        "!unzip /content/train_images.zip"
      ],
      "execution_count": 4,
      "outputs": [
        {
          "output_type": "stream",
          "text": [
            "Archive:  /content/train_images.zip\n",
            "   creating: train_images/\n",
            "   creating: train_images/0/\n",
            "  inflating: train_images/0/apple_1.jpg  \n",
            "  inflating: train_images/0/apple_10.jpg  \n",
            "  inflating: train_images/0/apple_11.jpg  \n",
            "  inflating: train_images/0/apple_12.jpg  \n",
            "  inflating: train_images/0/apple_13.jpg  \n",
            "  inflating: train_images/0/apple_14.jpg  \n",
            "  inflating: train_images/0/apple_15.jpg  \n",
            "  inflating: train_images/0/apple_16.jpg  \n",
            " extracting: train_images/0/apple_17.jpg  \n",
            "  inflating: train_images/0/apple_18.jpg  \n",
            "  inflating: train_images/0/apple_19.jpg  \n",
            "  inflating: train_images/0/apple_2.jpg  \n",
            "  inflating: train_images/0/apple_20.jpg  \n",
            "  inflating: train_images/0/apple_21.jpg  \n",
            "  inflating: train_images/0/apple_22.jpg  \n",
            "  inflating: train_images/0/apple_23.jpg  \n",
            "  inflating: train_images/0/apple_24.jpg  \n",
            "  inflating: train_images/0/apple_25.jpg  \n",
            "  inflating: train_images/0/apple_26.jpg  \n",
            "  inflating: train_images/0/apple_27.jpg  \n",
            "  inflating: train_images/0/apple_28.jpg  \n",
            "  inflating: train_images/0/apple_29.jpg  \n",
            "  inflating: train_images/0/apple_3.jpg  \n",
            "  inflating: train_images/0/apple_30.jpg  \n",
            "  inflating: train_images/0/apple_31.jpg  \n",
            "  inflating: train_images/0/apple_32.jpg  \n",
            "  inflating: train_images/0/apple_33.jpg  \n",
            "  inflating: train_images/0/apple_35.jpg  \n",
            "  inflating: train_images/0/apple_36.jpg  \n",
            " extracting: train_images/0/apple_37.jpg  \n",
            "  inflating: train_images/0/apple_38.jpg  \n",
            "  inflating: train_images/0/apple_39.jpg  \n",
            "  inflating: train_images/0/apple_4.jpg  \n",
            "  inflating: train_images/0/apple_40.jpg  \n",
            "  inflating: train_images/0/apple_41.jpg  \n",
            " extracting: train_images/0/apple_42.jpg  \n",
            "  inflating: train_images/0/apple_43.jpg  \n",
            " extracting: train_images/0/apple_44.jpg  \n",
            "  inflating: train_images/0/apple_45.jpg  \n",
            "  inflating: train_images/0/apple_46.jpg  \n",
            "  inflating: train_images/0/apple_47.jpg  \n",
            "  inflating: train_images/0/apple_48.jpg  \n",
            "  inflating: train_images/0/apple_49.jpg  \n",
            "  inflating: train_images/0/apple_5.jpg  \n",
            "  inflating: train_images/0/apple_50.jpg  \n",
            "  inflating: train_images/0/apple_51.jpg  \n",
            "  inflating: train_images/0/apple_52.jpg  \n",
            "  inflating: train_images/0/apple_53.jpg  \n",
            "  inflating: train_images/0/apple_54.jpg  \n",
            "  inflating: train_images/0/apple_55.jpg  \n",
            "  inflating: train_images/0/apple_56.jpg  \n",
            "  inflating: train_images/0/apple_57.jpg  \n",
            "  inflating: train_images/0/apple_58.jpg  \n",
            "  inflating: train_images/0/apple_59.jpg  \n",
            "  inflating: train_images/0/apple_6.jpg  \n",
            "  inflating: train_images/0/apple_60.jpg  \n",
            "  inflating: train_images/0/apple_61.jpg  \n",
            "  inflating: train_images/0/apple_62.jpg  \n",
            "  inflating: train_images/0/apple_63.jpg  \n",
            " extracting: train_images/0/apple_64.jpg  \n",
            "  inflating: train_images/0/apple_65.jpg  \n",
            "  inflating: train_images/0/apple_66.jpg  \n",
            "  inflating: train_images/0/apple_67.jpg  \n",
            "  inflating: train_images/0/apple_68.jpg  \n",
            "  inflating: train_images/0/apple_69.jpg  \n",
            "  inflating: train_images/0/apple_7.jpg  \n",
            "  inflating: train_images/0/apple_70.jpg  \n",
            "  inflating: train_images/0/apple_71.jpg  \n",
            "  inflating: train_images/0/apple_72.jpg  \n",
            "  inflating: train_images/0/apple_73.jpg  \n",
            "  inflating: train_images/0/apple_74.jpg  \n",
            "  inflating: train_images/0/apple_75.jpg  \n",
            "  inflating: train_images/0/apple_76.jpg  \n",
            " extracting: train_images/0/apple_8.jpg  \n",
            "  inflating: train_images/0/apple_9.jpg  \n",
            "   creating: train_images/1/\n",
            "  inflating: train_images/1/banana_1.jpg  \n",
            "  inflating: train_images/1/banana_10.jpg  \n",
            "  inflating: train_images/1/banana_11.jpg  \n",
            "  inflating: train_images/1/banana_12.jpg  \n",
            "  inflating: train_images/1/banana_13.jpg  \n",
            "  inflating: train_images/1/banana_14.jpg  \n",
            "  inflating: train_images/1/banana_16.jpg  \n",
            "  inflating: train_images/1/banana_17.jpg  \n",
            "  inflating: train_images/1/banana_2.jpg  \n",
            "  inflating: train_images/1/banana_20.jpg  \n",
            "  inflating: train_images/1/banana_21.jpg  \n",
            "  inflating: train_images/1/banana_22.jpg  \n",
            "  inflating: train_images/1/banana_23.jpg  \n",
            "  inflating: train_images/1/banana_24.jpg  \n",
            "  inflating: train_images/1/banana_25.jpg  \n",
            "  inflating: train_images/1/banana_26.jpg  \n",
            "  inflating: train_images/1/banana_27.jpg  \n",
            "  inflating: train_images/1/banana_28.jpg  \n",
            "  inflating: train_images/1/banana_29.jpg  \n",
            "  inflating: train_images/1/banana_3.jpg  \n",
            "  inflating: train_images/1/banana_30.jpg  \n",
            "  inflating: train_images/1/banana_31.jpg  \n",
            "  inflating: train_images/1/banana_32.jpg  \n",
            "  inflating: train_images/1/banana_33.jpg  \n",
            "  inflating: train_images/1/banana_34.jpg  \n",
            "  inflating: train_images/1/banana_35.jpg  \n",
            "  inflating: train_images/1/banana_36.jpg  \n",
            "  inflating: train_images/1/banana_37.jpg  \n",
            "  inflating: train_images/1/banana_38.jpg  \n",
            "  inflating: train_images/1/banana_39.jpg  \n",
            "  inflating: train_images/1/banana_4.jpg  \n",
            "  inflating: train_images/1/banana_40.jpg  \n",
            "  inflating: train_images/1/banana_41.jpg  \n",
            "  inflating: train_images/1/banana_42.jpg  \n",
            "  inflating: train_images/1/banana_43.jpg  \n",
            "  inflating: train_images/1/banana_44.jpg  \n",
            "  inflating: train_images/1/banana_45.jpg  \n",
            "  inflating: train_images/1/banana_46.jpg  \n",
            "  inflating: train_images/1/banana_47.jpg  \n",
            "  inflating: train_images/1/banana_48.jpg  \n",
            "  inflating: train_images/1/banana_49.jpg  \n",
            "  inflating: train_images/1/banana_5.jpg  \n",
            "  inflating: train_images/1/banana_50.jpg  \n",
            " extracting: train_images/1/banana_51.jpg  \n",
            "  inflating: train_images/1/banana_52.jpg  \n",
            "  inflating: train_images/1/banana_53.jpg  \n",
            "  inflating: train_images/1/banana_54.jpg  \n",
            "  inflating: train_images/1/banana_55.jpg  \n",
            "  inflating: train_images/1/banana_56.jpg  \n",
            "  inflating: train_images/1/banana_57.jpg  \n",
            "  inflating: train_images/1/banana_58.jpg  \n",
            "  inflating: train_images/1/banana_59.jpg  \n",
            "  inflating: train_images/1/banana_6.jpg  \n",
            "  inflating: train_images/1/banana_60.jpg  \n",
            "  inflating: train_images/1/banana_61.jpg  \n",
            "  inflating: train_images/1/banana_62.jpg  \n",
            "  inflating: train_images/1/banana_63.jpg  \n",
            "  inflating: train_images/1/banana_64.jpg  \n",
            "  inflating: train_images/1/banana_65.jpg  \n",
            "  inflating: train_images/1/banana_66.jpg  \n",
            "  inflating: train_images/1/banana_67.jpg  \n",
            "  inflating: train_images/1/banana_68.jpg  \n",
            "  inflating: train_images/1/banana_69.jpg  \n",
            "  inflating: train_images/1/banana_7.jpg  \n",
            "  inflating: train_images/1/banana_70.jpg  \n",
            "  inflating: train_images/1/banana_71.jpg  \n",
            "  inflating: train_images/1/banana_72.jpg  \n",
            "  inflating: train_images/1/banana_73.jpg  \n",
            "  inflating: train_images/1/banana_74.jpg  \n",
            "  inflating: train_images/1/banana_75.jpg  \n",
            "  inflating: train_images/1/banana_76.jpg  \n",
            "  inflating: train_images/1/banana_8.jpg  \n",
            "  inflating: train_images/1/banana_9.jpg  \n",
            "   creating: train_images/2/\n",
            " extracting: train_images/2/orange_1.jpg  \n",
            "  inflating: train_images/2/orange_10.jpg  \n",
            "  inflating: train_images/2/orange_11.jpg  \n",
            "  inflating: train_images/2/orange_12.jpg  \n",
            " extracting: train_images/2/orange_13.jpg  \n",
            "  inflating: train_images/2/orange_14.jpg  \n",
            "  inflating: train_images/2/orange_15.jpg  \n",
            "  inflating: train_images/2/orange_16.jpg  \n",
            "  inflating: train_images/2/orange_17.jpg  \n",
            " extracting: train_images/2/orange_18.jpg  \n",
            "  inflating: train_images/2/orange_19.jpg  \n",
            "  inflating: train_images/2/orange_2.jpg  \n",
            "  inflating: train_images/2/orange_20.jpg  \n",
            "  inflating: train_images/2/orange_21.jpg  \n",
            "  inflating: train_images/2/orange_22.jpg  \n",
            "  inflating: train_images/2/orange_23.jpg  \n",
            "  inflating: train_images/2/orange_24.jpg  \n",
            "  inflating: train_images/2/orange_25.jpg  \n",
            "  inflating: train_images/2/orange_26.jpg  \n",
            "  inflating: train_images/2/orange_27.jpg  \n",
            "  inflating: train_images/2/orange_28.jpg  \n",
            "  inflating: train_images/2/orange_29.jpg  \n",
            "  inflating: train_images/2/orange_3.jpg  \n",
            "  inflating: train_images/2/orange_30.jpg  \n",
            "  inflating: train_images/2/orange_31.jpg  \n",
            "  inflating: train_images/2/orange_32.jpg  \n",
            "  inflating: train_images/2/orange_33.jpg  \n",
            "  inflating: train_images/2/orange_34.jpg  \n",
            "  inflating: train_images/2/orange_35.jpg  \n",
            "  inflating: train_images/2/orange_36.jpg  \n",
            "  inflating: train_images/2/orange_37.jpg  \n",
            "  inflating: train_images/2/orange_38.jpg  \n",
            "  inflating: train_images/2/orange_4.jpg  \n",
            "  inflating: train_images/2/orange_40.jpg  \n",
            "  inflating: train_images/2/orange_41.jpg  \n",
            "  inflating: train_images/2/orange_42.jpg  \n",
            "  inflating: train_images/2/orange_43.jpg  \n",
            "  inflating: train_images/2/orange_44.jpg  \n",
            "  inflating: train_images/2/orange_46.jpg  \n",
            "  inflating: train_images/2/orange_47.jpg  \n",
            "  inflating: train_images/2/orange_48.jpg  \n",
            "  inflating: train_images/2/orange_49.jpg  \n",
            "  inflating: train_images/2/orange_5.jpg  \n",
            " extracting: train_images/2/orange_50.jpg  \n",
            "  inflating: train_images/2/orange_51.jpg  \n",
            "  inflating: train_images/2/orange_52.jpg  \n",
            "  inflating: train_images/2/orange_53.jpg  \n",
            "  inflating: train_images/2/orange_54.jpg  \n",
            "  inflating: train_images/2/orange_55.jpg  \n",
            "  inflating: train_images/2/orange_56.jpg  \n",
            "  inflating: train_images/2/orange_57.jpg  \n",
            "  inflating: train_images/2/orange_58.jpg  \n",
            "  inflating: train_images/2/orange_59.jpg  \n",
            "  inflating: train_images/2/orange_6.jpg  \n",
            "  inflating: train_images/2/orange_60.jpg  \n",
            "  inflating: train_images/2/orange_61.jpg  \n",
            "  inflating: train_images/2/orange_62.jpg  \n",
            "  inflating: train_images/2/orange_63.jpg  \n",
            "  inflating: train_images/2/orange_64.jpg  \n",
            "  inflating: train_images/2/orange_67.jpg  \n",
            "  inflating: train_images/2/orange_68.jpg  \n",
            "  inflating: train_images/2/orange_69.jpg  \n",
            "  inflating: train_images/2/orange_7.jpg  \n",
            "  inflating: train_images/2/orange_70.jpg  \n",
            "  inflating: train_images/2/orange_71.jpg  \n",
            "  inflating: train_images/2/orange_72.jpg  \n",
            "  inflating: train_images/2/orange_73.jpg  \n",
            "  inflating: train_images/2/orange_74.jpg  \n",
            "  inflating: train_images/2/orange_75.jpg  \n",
            "  inflating: train_images/2/orange_76.jpg  \n",
            "  inflating: train_images/2/orange_8.jpg  \n",
            "  inflating: train_images/2/orange_9.jpg  \n",
            "   creating: train_images/3/\n",
            "  inflating: train_images/3/mixed_1.jpg  \n",
            "  inflating: train_images/3/mixed_10.jpg  \n",
            "  inflating: train_images/3/mixed_11.jpg  \n",
            "  inflating: train_images/3/mixed_12.jpg  \n",
            "  inflating: train_images/3/mixed_13.jpg  \n",
            "  inflating: train_images/3/mixed_14.jpg  \n",
            "  inflating: train_images/3/mixed_15.jpg  \n",
            " extracting: train_images/3/mixed_16.jpg  \n",
            "  inflating: train_images/3/mixed_17.jpg  \n",
            "  inflating: train_images/3/mixed_18.jpg  \n",
            "  inflating: train_images/3/mixed_19.jpg  \n",
            "  inflating: train_images/3/mixed_2.jpg  \n",
            "  inflating: train_images/3/mixed_20.jpg  \n",
            "  inflating: train_images/3/mixed_3.jpg  \n",
            "  inflating: train_images/3/mixed_4.jpg  \n",
            "  inflating: train_images/3/mixed_5.jpg  \n",
            "  inflating: train_images/3/mixed_6.jpg  \n",
            "  inflating: train_images/3/mixed_7.jpg  \n",
            "  inflating: train_images/3/mixed_8.jpg  \n",
            "  inflating: train_images/3/mixed_9.jpg  \n"
          ],
          "name": "stdout"
        }
      ]
    },
    {
      "cell_type": "code",
      "metadata": {
        "colab_type": "code",
        "id": "HByI1VTr_n7-",
        "outputId": "9bd64774-247e-4837-c53f-399f72f58dff",
        "colab": {
          "base_uri": "https://localhost:8080/",
          "height": 323
        }
      },
      "source": [
        "!unzip /content/test_images.zip"
      ],
      "execution_count": 5,
      "outputs": [
        {
          "output_type": "stream",
          "text": [
            "Archive:  /content/test_images.zip\n",
            "   creating: test_images/\n",
            "  inflating: test_images/apple_77.jpg  \n",
            "  inflating: test_images/apple_79.jpg  \n",
            "  inflating: test_images/apple_89.jpg  \n",
            "  inflating: test_images/apple_92.jpg  \n",
            "  inflating: test_images/banana_77.jpg  \n",
            "  inflating: test_images/banana_85.jpg  \n",
            " extracting: test_images/banana_87.jpg  \n",
            "  inflating: test_images/banana_89.jpg  \n",
            "  inflating: test_images/banana_91.jpg  \n",
            "  inflating: test_images/mixed_21.jpg  \n",
            "  inflating: test_images/mixed_23.jpg  \n",
            "  inflating: test_images/mixed_24.jpg  \n",
            "  inflating: test_images/orange_77.jpg  \n",
            "  inflating: test_images/orange_80.jpg  \n",
            "  inflating: test_images/orange_90.jpg  \n",
            "  inflating: test_images/orange_95.jpg  \n"
          ],
          "name": "stdout"
        }
      ]
    },
    {
      "cell_type": "code",
      "metadata": {
        "colab_type": "code",
        "id": "W0ojV3yt_tXe",
        "outputId": "69e9acf3-ca8f-4e68-879d-cc1e7568e039",
        "colab": {
          "base_uri": "https://localhost:8080/",
          "height": 85
        }
      },
      "source": [
        "from PIL import Image\n",
        "import numpy as np\n",
        "import os\n",
        "\n",
        "train_images = []\n",
        "train_labels = []\n",
        "\n",
        "count = 1\n",
        "for dirc in sorted(os.listdir('train_images')):\n",
        "    if(count < 1):\n",
        "        count += 1\n",
        "        continue\n",
        "    for img_path in os.listdir('train_images/'+str(dirc)):\n",
        "        im = Image.open('train_images/'+str(dirc)+'/'+str(img_path)).convert('LA')\n",
        "        im = im.resize((100,100))\n",
        "        train_images.append(np.array(im))\n",
        "        train_labels.append(count-1)\n",
        "    count += 1\n",
        "    print('Reading '+str(count-2)+' dir')"
      ],
      "execution_count": 14,
      "outputs": [
        {
          "output_type": "stream",
          "text": [
            "Reading 0 dir\n",
            "Reading 1 dir\n",
            "Reading 2 dir\n",
            "Reading 3 dir\n"
          ],
          "name": "stdout"
        }
      ]
    },
    {
      "cell_type": "code",
      "metadata": {
        "colab_type": "code",
        "id": "SlKswCpZ_0Gz",
        "colab": {}
      },
      "source": [
        "train_images = np.array(train_images)\n",
        "train_labels = np.array(train_labels)"
      ],
      "execution_count": 0,
      "outputs": []
    },
    {
      "cell_type": "code",
      "metadata": {
        "colab_type": "code",
        "id": "IvB8H8OC_8Q7",
        "outputId": "092533cd-f446-43aa-ca3c-2c8c4bf695eb",
        "colab": {
          "base_uri": "https://localhost:8080/",
          "height": 34
        }
      },
      "source": [
        "train_images.shape"
      ],
      "execution_count": 17,
      "outputs": [
        {
          "output_type": "execute_result",
          "data": {
            "text/plain": [
              "(240, 100, 100, 2)"
            ]
          },
          "metadata": {
            "tags": []
          },
          "execution_count": 17
        }
      ]
    },
    {
      "cell_type": "code",
      "metadata": {
        "colab_type": "code",
        "id": "n7copz-m_9p2",
        "outputId": "e4c26404-6601-469e-9713-c85429109389",
        "colab": {
          "base_uri": "https://localhost:8080/",
          "height": 34
        }
      },
      "source": [
        "train_labels.shape"
      ],
      "execution_count": 18,
      "outputs": [
        {
          "output_type": "execute_result",
          "data": {
            "text/plain": [
              "(240,)"
            ]
          },
          "metadata": {
            "tags": []
          },
          "execution_count": 18
        }
      ]
    },
    {
      "cell_type": "code",
      "metadata": {
        "colab_type": "code",
        "id": "_oQaTx4q_-5n",
        "colab": {}
      },
      "source": [
        "train_labels = np.reshape(train_labels, (-1,1))"
      ],
      "execution_count": 0,
      "outputs": []
    },
    {
      "cell_type": "code",
      "metadata": {
        "colab_type": "code",
        "id": "Qal-qgEsAC7m",
        "outputId": "22858c0f-4d34-4727-d042-c6252c5a3fdb",
        "colab": {
          "base_uri": "https://localhost:8080/",
          "height": 34
        }
      },
      "source": [
        "train_labels.shape"
      ],
      "execution_count": 19,
      "outputs": [
        {
          "output_type": "execute_result",
          "data": {
            "text/plain": [
              "(240,)"
            ]
          },
          "metadata": {
            "tags": []
          },
          "execution_count": 19
        }
      ]
    },
    {
      "cell_type": "code",
      "metadata": {
        "colab_type": "code",
        "id": "Y7DdP5ZvAD9B",
        "colab": {}
      },
      "source": [
        "from sklearn.preprocessing import OneHotEncoder  #\n",
        "\n",
        "enc = OneHotEncoder()\n",
        "train_labels = enc.fit_transform(train_labels).toarray()"
      ],
      "execution_count": 0,
      "outputs": []
    },
    {
      "cell_type": "code",
      "metadata": {
        "colab_type": "code",
        "id": "VaHBhHatAHJ4",
        "outputId": "0c9c58a3-9e2f-4d85-a462-e486c22cf119",
        "colab": {
          "base_uri": "https://localhost:8080/",
          "height": 34
        }
      },
      "source": [
        "train_labels.shape"
      ],
      "execution_count": 61,
      "outputs": [
        {
          "output_type": "execute_result",
          "data": {
            "text/plain": [
              "(240, 4)"
            ]
          },
          "metadata": {
            "tags": []
          },
          "execution_count": 61
        }
      ]
    },
    {
      "cell_type": "code",
      "metadata": {
        "colab_type": "code",
        "id": "vI0PozYFAJDB",
        "colab": {}
      },
      "source": [
        "train_images = train_images / 255.0"
      ],
      "execution_count": 0,
      "outputs": []
    },
    {
      "cell_type": "code",
      "metadata": {
        "colab_type": "code",
        "id": "gFvvpfRjAcHr",
        "outputId": "c119c967-ada8-4333-c05b-05be64680da2",
        "colab": {
          "base_uri": "https://localhost:8080/",
          "height": 289
        }
      },
      "source": [
        "from PIL import Image\n",
        "import numpy as np\n",
        "import os\n",
        "\n",
        "test_images = []\n",
        "\n",
        "count = 0\n",
        "for dirc in sorted(os.listdir('test_images')):\n",
        "  #  if(count < 1):\n",
        "   #     count += 1\n",
        "    #    continue\n",
        "    im = Image.open('test_images/'+str(dirc)).convert('LA')\n",
        "    im = im.resize((100,100))\n",
        "    test_images.append(np.array(im))\n",
        "    print('Reading '+str(dirc))"
      ],
      "execution_count": 114,
      "outputs": [
        {
          "output_type": "stream",
          "text": [
            "Reading apple_77.jpg\n",
            "Reading apple_79.jpg\n",
            "Reading apple_89.jpg\n",
            "Reading apple_92.jpg\n",
            "Reading banana_77.jpg\n",
            "Reading banana_85.jpg\n",
            "Reading banana_87.jpg\n",
            "Reading banana_89.jpg\n",
            "Reading banana_91.jpg\n",
            "Reading mixed_21.jpg\n",
            "Reading mixed_23.jpg\n",
            "Reading mixed_24.jpg\n",
            "Reading orange_77.jpg\n",
            "Reading orange_80.jpg\n",
            "Reading orange_90.jpg\n",
            "Reading orange_95.jpg\n"
          ],
          "name": "stdout"
        }
      ]
    },
    {
      "cell_type": "code",
      "metadata": {
        "colab_type": "code",
        "id": "EKGqdQ38Dbup",
        "outputId": "0af2f868-d3c4-46b8-f2d7-3c1c0195a8a9",
        "colab": {
          "base_uri": "https://localhost:8080/",
          "height": 632
        }
      },
      "source": [
        "!pip install --upgrade tensorflow"
      ],
      "execution_count": 64,
      "outputs": [
        {
          "output_type": "stream",
          "text": [
            "Requirement already up-to-date: tensorflow in /usr/local/lib/python3.6/dist-packages (2.1.0)\n",
            "Requirement already satisfied, skipping upgrade: google-pasta>=0.1.6 in /usr/local/lib/python3.6/dist-packages (from tensorflow) (0.1.8)\n",
            "Requirement already satisfied, skipping upgrade: grpcio>=1.8.6 in /usr/local/lib/python3.6/dist-packages (from tensorflow) (1.27.1)\n",
            "Requirement already satisfied, skipping upgrade: gast==0.2.2 in /usr/local/lib/python3.6/dist-packages (from tensorflow) (0.2.2)\n",
            "Requirement already satisfied, skipping upgrade: numpy<2.0,>=1.16.0 in /usr/local/lib/python3.6/dist-packages (from tensorflow) (1.17.5)\n",
            "Requirement already satisfied, skipping upgrade: astor>=0.6.0 in /usr/local/lib/python3.6/dist-packages (from tensorflow) (0.8.1)\n",
            "Requirement already satisfied, skipping upgrade: protobuf>=3.8.0 in /usr/local/lib/python3.6/dist-packages (from tensorflow) (3.10.0)\n",
            "Requirement already satisfied, skipping upgrade: six>=1.12.0 in /usr/local/lib/python3.6/dist-packages (from tensorflow) (1.12.0)\n",
            "Requirement already satisfied, skipping upgrade: opt-einsum>=2.3.2 in /usr/local/lib/python3.6/dist-packages (from tensorflow) (3.1.0)\n",
            "Requirement already satisfied, skipping upgrade: absl-py>=0.7.0 in /usr/local/lib/python3.6/dist-packages (from tensorflow) (0.9.0)\n",
            "Requirement already satisfied, skipping upgrade: keras-preprocessing>=1.1.0 in /usr/local/lib/python3.6/dist-packages (from tensorflow) (1.1.0)\n",
            "Requirement already satisfied, skipping upgrade: tensorboard<2.2.0,>=2.1.0 in /usr/local/lib/python3.6/dist-packages (from tensorflow) (2.1.0)\n",
            "Requirement already satisfied, skipping upgrade: tensorflow-estimator<2.2.0,>=2.1.0rc0 in /usr/local/lib/python3.6/dist-packages (from tensorflow) (2.1.0)\n",
            "Requirement already satisfied, skipping upgrade: termcolor>=1.1.0 in /usr/local/lib/python3.6/dist-packages (from tensorflow) (1.1.0)\n",
            "Requirement already satisfied, skipping upgrade: scipy==1.4.1; python_version >= \"3\" in /usr/local/lib/python3.6/dist-packages (from tensorflow) (1.4.1)\n",
            "Requirement already satisfied, skipping upgrade: wrapt>=1.11.1 in /usr/local/lib/python3.6/dist-packages (from tensorflow) (1.11.2)\n",
            "Requirement already satisfied, skipping upgrade: keras-applications>=1.0.8 in /usr/local/lib/python3.6/dist-packages (from tensorflow) (1.0.8)\n",
            "Requirement already satisfied, skipping upgrade: wheel>=0.26; python_version >= \"3\" in /usr/local/lib/python3.6/dist-packages (from tensorflow) (0.34.2)\n",
            "Requirement already satisfied, skipping upgrade: setuptools in /usr/local/lib/python3.6/dist-packages (from protobuf>=3.8.0->tensorflow) (45.1.0)\n",
            "Requirement already satisfied, skipping upgrade: werkzeug>=0.11.15 in /usr/local/lib/python3.6/dist-packages (from tensorboard<2.2.0,>=2.1.0->tensorflow) (1.0.0)\n",
            "Requirement already satisfied, skipping upgrade: markdown>=2.6.8 in /usr/local/lib/python3.6/dist-packages (from tensorboard<2.2.0,>=2.1.0->tensorflow) (3.2.1)\n",
            "Requirement already satisfied, skipping upgrade: google-auth<2,>=1.6.3 in /usr/local/lib/python3.6/dist-packages (from tensorboard<2.2.0,>=2.1.0->tensorflow) (1.7.2)\n",
            "Requirement already satisfied, skipping upgrade: google-auth-oauthlib<0.5,>=0.4.1 in /usr/local/lib/python3.6/dist-packages (from tensorboard<2.2.0,>=2.1.0->tensorflow) (0.4.1)\n",
            "Requirement already satisfied, skipping upgrade: requests<3,>=2.21.0 in /usr/local/lib/python3.6/dist-packages (from tensorboard<2.2.0,>=2.1.0->tensorflow) (2.21.0)\n",
            "Requirement already satisfied, skipping upgrade: h5py in /usr/local/lib/python3.6/dist-packages (from keras-applications>=1.0.8->tensorflow) (2.8.0)\n",
            "Requirement already satisfied, skipping upgrade: cachetools<3.2,>=2.0.0 in /usr/local/lib/python3.6/dist-packages (from google-auth<2,>=1.6.3->tensorboard<2.2.0,>=2.1.0->tensorflow) (3.1.1)\n",
            "Requirement already satisfied, skipping upgrade: rsa<4.1,>=3.1.4 in /usr/local/lib/python3.6/dist-packages (from google-auth<2,>=1.6.3->tensorboard<2.2.0,>=2.1.0->tensorflow) (4.0)\n",
            "Requirement already satisfied, skipping upgrade: pyasn1-modules>=0.2.1 in /usr/local/lib/python3.6/dist-packages (from google-auth<2,>=1.6.3->tensorboard<2.2.0,>=2.1.0->tensorflow) (0.2.8)\n",
            "Requirement already satisfied, skipping upgrade: requests-oauthlib>=0.7.0 in /usr/local/lib/python3.6/dist-packages (from google-auth-oauthlib<0.5,>=0.4.1->tensorboard<2.2.0,>=2.1.0->tensorflow) (1.3.0)\n",
            "Requirement already satisfied, skipping upgrade: idna<2.9,>=2.5 in /usr/local/lib/python3.6/dist-packages (from requests<3,>=2.21.0->tensorboard<2.2.0,>=2.1.0->tensorflow) (2.8)\n",
            "Requirement already satisfied, skipping upgrade: chardet<3.1.0,>=3.0.2 in /usr/local/lib/python3.6/dist-packages (from requests<3,>=2.21.0->tensorboard<2.2.0,>=2.1.0->tensorflow) (3.0.4)\n",
            "Requirement already satisfied, skipping upgrade: urllib3<1.25,>=1.21.1 in /usr/local/lib/python3.6/dist-packages (from requests<3,>=2.21.0->tensorboard<2.2.0,>=2.1.0->tensorflow) (1.24.3)\n",
            "Requirement already satisfied, skipping upgrade: certifi>=2017.4.17 in /usr/local/lib/python3.6/dist-packages (from requests<3,>=2.21.0->tensorboard<2.2.0,>=2.1.0->tensorflow) (2019.11.28)\n",
            "Requirement already satisfied, skipping upgrade: pyasn1>=0.1.3 in /usr/local/lib/python3.6/dist-packages (from rsa<4.1,>=3.1.4->google-auth<2,>=1.6.3->tensorboard<2.2.0,>=2.1.0->tensorflow) (0.4.8)\n",
            "Requirement already satisfied, skipping upgrade: oauthlib>=3.0.0 in /usr/local/lib/python3.6/dist-packages (from requests-oauthlib>=0.7.0->google-auth-oauthlib<0.5,>=0.4.1->tensorboard<2.2.0,>=2.1.0->tensorflow) (3.1.0)\n"
          ],
          "name": "stdout"
        }
      ]
    },
    {
      "cell_type": "code",
      "metadata": {
        "colab_type": "code",
        "id": "kIiPQRtS4hpS",
        "colab": {}
      },
      "source": [
        "import tensorflow as tf"
      ],
      "execution_count": 0,
      "outputs": []
    },
    {
      "cell_type": "code",
      "metadata": {
        "colab_type": "code",
        "id": "GwDEU2li4otD",
        "outputId": "51b22672-1265-4dd3-a7d4-ffeb5048e561",
        "colab": {
          "base_uri": "https://localhost:8080/",
          "height": 34
        }
      },
      "source": [
        "tf.__version__"
      ],
      "execution_count": 66,
      "outputs": [
        {
          "output_type": "execute_result",
          "data": {
            "text/plain": [
              "'2.1.0'"
            ]
          },
          "metadata": {
            "tags": []
          },
          "execution_count": 66
        }
      ]
    },
    {
      "cell_type": "code",
      "metadata": {
        "colab_type": "code",
        "id": "McW-VsG-AKII",
        "colab": {}
      },
      "source": [
        "import tensorflow as tf\n",
        "from tensorflow.keras.layers import Dense, Flatten, Conv2D, MaxPool2D, Dropout\n",
        "from tensorflow.keras import Model\n",
        "\n",
        "\n",
        "train_ds = tf.data.Dataset.from_tensor_slices((train_images, train_labels)).shuffle(10000).batch(32)"
      ],
      "execution_count": 0,
      "outputs": []
    },
    {
      "cell_type": "code",
      "metadata": {
        "colab_type": "code",
        "id": "X6KZ8dAWARr1",
        "colab": {}
      },
      "source": [
        "class MyModel(Model):\n",
        "    def __init__(self):\n",
        "        super(MyModel, self).__init__()\n",
        "        self.conv1 = Conv2D(32, 3, padding='same', activation='relu')\n",
        "        self.pool1 = MaxPool2D((2,2))\n",
        "        self.conv2 = Conv2D(64, 3, padding='same', activation='relu')\n",
        "        self.pool2 = MaxPool2D((2,2))\n",
        "        self.flatten = Flatten()\n",
        "        self.d1 = Dense(512, activation='relu')\n",
        "        self.dropout1 = Dropout(0.4)\n",
        "        self.d2 = Dense(128, activation='relu')\n",
        "        self.dropout2 = Dropout(0.4)\n",
        "        self.d3 = Dense(4, activation='softmax')\n",
        "\n",
        "    def call(self, x):\n",
        "        x = self.conv1(x)\n",
        "        x = self.pool1(x)\n",
        "        x = self.conv2(x)\n",
        "        x = self.pool2(x)\n",
        "        x = self.flatten(x)\n",
        "        x = self.d1(x)\n",
        "        x = self.dropout1(x)\n",
        "        x = self.d2(x)\n",
        "        x = self.dropout2(x)\n",
        "        x = self.d3(x)\n",
        "        return x\n",
        "\n",
        "model = MyModel()"
      ],
      "execution_count": 0,
      "outputs": []
    },
    {
      "cell_type": "code",
      "metadata": {
        "colab_type": "code",
        "id": "4gP9dGrVAU-V",
        "colab": {}
      },
      "source": [
        "loss_object = tf.keras.losses.CategoricalCrossentropy()\n",
        "\n",
        "optimizer = tf.keras.optimizers.Adam()"
      ],
      "execution_count": 0,
      "outputs": []
    },
    {
      "cell_type": "code",
      "metadata": {
        "colab_type": "code",
        "id": "GZNw7H57AWVl",
        "colab": {}
      },
      "source": [
        "train_loss = tf.keras.metrics.Mean(name='train_loss')\n",
        "train_accuracy = tf.keras.metrics.CategoricalAccuracy(name='train_accuracy')"
      ],
      "execution_count": 0,
      "outputs": []
    },
    {
      "cell_type": "code",
      "metadata": {
        "colab_type": "code",
        "id": "7PhXIco7AY06",
        "colab": {}
      },
      "source": [
        "@tf.function\n",
        "def train_step(images, labels):\n",
        "    with tf.GradientTape() as tape:\n",
        "        predictions = model(images)\n",
        "        loss = loss_object(labels, predictions)\n",
        "    gradients = tape.gradient(loss, model.trainable_variables)\n",
        "    optimizer.apply_gradients(zip(gradients, model.trainable_variables))\n",
        "\n",
        "    train_loss(loss)\n",
        "    train_accuracy(labels, predictions)"
      ],
      "execution_count": 0,
      "outputs": []
    },
    {
      "cell_type": "code",
      "metadata": {
        "colab_type": "code",
        "id": "ufCjH6LmAZwR",
        "outputId": "0bd07ac5-2e8e-442c-d436-a41d5b55204e",
        "colab": {
          "base_uri": "https://localhost:8080/",
          "height": 224
        }
      },
      "source": [
        "EPOCHS = 5\n",
        "\n",
        "for epoch in range(EPOCHS):\n",
        "    for images, labels in train_ds:\n",
        "#         print(images.shape,labels.shape)  \n",
        "        train_step(images, labels)\n",
        "    \n",
        "    model.save_weights('/content', save_format='tf')\n",
        "\n",
        "    print('Epoch:',str(epoch+1),' Loss:',str(train_loss.result()),' Accuracy:',str(train_accuracy.result()*100))\n",
        "    train_loss.reset_states()\n",
        "    train_accuracy.reset_states()"
      ],
      "execution_count": 78,
      "outputs": [
        {
          "output_type": "stream",
          "text": [
            "WARNING:tensorflow:Layer my_model_4 is casting an input tensor from dtype float64 to the layer's dtype of float32, which is new behavior in TensorFlow 2.  The layer has dtype float32 because it's dtype defaults to floatx.\n",
            "\n",
            "If you intended to run this layer in float32, you can safely ignore this warning. If in doubt, this warning is likely only an issue if you are porting a TensorFlow 1.X model to TensorFlow 2.\n",
            "\n",
            "To change all layers to have dtype float64 by default, call `tf.keras.backend.set_floatx('float64')`. To change just this layer, pass dtype='float64' to the layer constructor. If you are the author of this layer, you can disable autocasting by passing autocast=False to the base Layer constructor.\n",
            "\n",
            "Epoch: 1  Loss: tf.Tensor(1.3509438, shape=(), dtype=float32)  Accuracy: tf.Tensor(29.166666, shape=(), dtype=float32)\n",
            "Epoch: 2  Loss: tf.Tensor(1.3129743, shape=(), dtype=float32)  Accuracy: tf.Tensor(26.249998, shape=(), dtype=float32)\n",
            "Epoch: 3  Loss: tf.Tensor(1.3213488, shape=(), dtype=float32)  Accuracy: tf.Tensor(30.416668, shape=(), dtype=float32)\n",
            "Epoch: 4  Loss: tf.Tensor(1.3026972, shape=(), dtype=float32)  Accuracy: tf.Tensor(31.25, shape=(), dtype=float32)\n",
            "Epoch: 5  Loss: tf.Tensor(1.3036518, shape=(), dtype=float32)  Accuracy: tf.Tensor(27.916666, shape=(), dtype=float32)\n"
          ],
          "name": "stdout"
        }
      ]
    },
    {
      "cell_type": "code",
      "metadata": {
        "colab_type": "code",
        "id": "v6pbj50TQbua",
        "colab": {}
      },
      "source": [
        "test_images = np.array(test_images)"
      ],
      "execution_count": 0,
      "outputs": []
    },
    {
      "cell_type": "code",
      "metadata": {
        "colab_type": "code",
        "id": "NIW97DWAQdob",
        "outputId": "a113dea6-1e25-44aa-b455-96fc86e7825a",
        "colab": {
          "base_uri": "https://localhost:8080/",
          "height": 34
        }
      },
      "source": [
        "test_images.shape"
      ],
      "execution_count": 122,
      "outputs": [
        {
          "output_type": "execute_result",
          "data": {
            "text/plain": [
              "(16, 100, 100, 2)"
            ]
          },
          "metadata": {
            "tags": []
          },
          "execution_count": 122
        }
      ]
    },
    {
      "cell_type": "code",
      "metadata": {
        "colab_type": "code",
        "id": "_Fjn-K_EQ9wn",
        "colab": {}
      },
      "source": [
        "test_images = test_images / 255.0"
      ],
      "execution_count": 0,
      "outputs": []
    },
    {
      "cell_type": "code",
      "metadata": {
        "colab_type": "code",
        "id": "DRraw4zoj-Wi",
        "outputId": "b0419461-addc-4b33-9aeb-88dd90a8de51",
        "colab": {
          "base_uri": "https://localhost:8080/",
          "height": 34
        }
      },
      "source": [
        "model.load_weights('/content')"
      ],
      "execution_count": 124,
      "outputs": [
        {
          "output_type": "execute_result",
          "data": {
            "text/plain": [
              "<tensorflow.python.training.tracking.util.CheckpointLoadStatus at 0x7fbf5eb14748>"
            ]
          },
          "metadata": {
            "tags": []
          },
          "execution_count": 124
        }
      ]
    },
    {
      "cell_type": "code",
      "metadata": {
        "colab_type": "code",
        "id": "LLubJJENQfhU",
        "outputId": "75f7835b-9bbe-475b-f419-4195986c2e81",
        "colab": {
          "base_uri": "https://localhost:8080/",
          "height": 289
        }
      },
      "source": [
        "predictions = []\n",
        "count = 0\n",
        "for img in test_images:\n",
        "  count += 1\n",
        "  print(count)\n",
        "  img = img.reshape(1,100,100,2)\n",
        "  predictions.append(np.argmax(model(img),axis=1))"
      ],
      "execution_count": 125,
      "outputs": [
        {
          "output_type": "stream",
          "text": [
            "1\n",
            "2\n",
            "3\n",
            "4\n",
            "5\n",
            "6\n",
            "7\n",
            "8\n",
            "9\n",
            "10\n",
            "11\n",
            "12\n",
            "13\n",
            "14\n",
            "15\n",
            "16\n"
          ],
          "name": "stdout"
        }
      ]
    },
    {
      "cell_type": "code",
      "metadata": {
        "colab_type": "code",
        "id": "_WTPr0MVRec8",
        "outputId": "db57ac06-10ff-4612-aa35-c0e2a0761704",
        "colab": {
          "base_uri": "https://localhost:8080/",
          "height": 51
        }
      },
      "source": [
        "!ls"
      ],
      "execution_count": 126,
      "outputs": [
        {
          "output_type": "stream",
          "text": [
            "Dataset.zip  pred.csv\t  test_images\t   train_images\n",
            "drive\t     sample_data  test_images.zip  train_images.zip\n"
          ],
          "name": "stdout"
        }
      ]
    },
    {
      "cell_type": "code",
      "metadata": {
        "colab_type": "code",
        "id": "epcDx5whS2JG",
        "colab": {}
      },
      "source": [
        "predictions = np.array(predictions)"
      ],
      "execution_count": 0,
      "outputs": []
    },
    {
      "cell_type": "code",
      "metadata": {
        "colab_type": "code",
        "id": "WDS-TdLUnWXP",
        "outputId": "9347c890-4596-458d-b81d-d132359c85fc",
        "colab": {
          "base_uri": "https://localhost:8080/",
          "height": 34
        }
      },
      "source": [
        "predictions.shape"
      ],
      "execution_count": 128,
      "outputs": [
        {
          "output_type": "execute_result",
          "data": {
            "text/plain": [
              "(16, 1)"
            ]
          },
          "metadata": {
            "tags": []
          },
          "execution_count": 128
        }
      ]
    },
    {
      "cell_type": "code",
      "metadata": {
        "colab_type": "code",
        "id": "07vLqPf4oC8V",
        "colab": {}
      },
      "source": [
        "import pandas as pd \n",
        "\n",
        "df = pd.DataFrame(predictions)"
      ],
      "execution_count": 0,
      "outputs": []
    },
    {
      "cell_type": "code",
      "metadata": {
        "colab_type": "code",
        "id": "mDaPFyeMoq6x",
        "colab": {}
      },
      "source": [
        "df.to_csv('/content/pred.csv')"
      ],
      "execution_count": 0,
      "outputs": []
    },
    {
      "cell_type": "code",
      "metadata": {
        "colab_type": "code",
        "id": "2XjeYZaLovWE",
        "outputId": "c1610cfa-e40f-426f-d5c7-7edac55b0121",
        "colab": {
          "base_uri": "https://localhost:8080/",
          "height": 51
        }
      },
      "source": [
        "!ls"
      ],
      "execution_count": 131,
      "outputs": [
        {
          "output_type": "stream",
          "text": [
            "Dataset.zip  pred.csv\t  test_images\t   train_images\n",
            "drive\t     sample_data  test_images.zip  train_images.zip\n"
          ],
          "name": "stdout"
        }
      ]
    },
    {
      "cell_type": "code",
      "metadata": {
        "colab_type": "code",
        "id": "UsElc6PJowIZ",
        "outputId": "ae64a6b3-e23d-4731-ef46-204f559203b5",
        "colab": {
          "base_uri": "https://localhost:8080/",
          "height": 545
        }
      },
      "source": [
        "df"
      ],
      "execution_count": 134,
      "outputs": [
        {
          "output_type": "execute_result",
          "data": {
            "text/html": [
              "<div>\n",
              "<style scoped>\n",
              "    .dataframe tbody tr th:only-of-type {\n",
              "        vertical-align: middle;\n",
              "    }\n",
              "\n",
              "    .dataframe tbody tr th {\n",
              "        vertical-align: top;\n",
              "    }\n",
              "\n",
              "    .dataframe thead th {\n",
              "        text-align: right;\n",
              "    }\n",
              "</style>\n",
              "<table border=\"1\" class=\"dataframe\">\n",
              "  <thead>\n",
              "    <tr style=\"text-align: right;\">\n",
              "      <th></th>\n",
              "      <th>0</th>\n",
              "    </tr>\n",
              "  </thead>\n",
              "  <tbody>\n",
              "    <tr>\n",
              "      <th>0</th>\n",
              "      <td>2</td>\n",
              "    </tr>\n",
              "    <tr>\n",
              "      <th>1</th>\n",
              "      <td>2</td>\n",
              "    </tr>\n",
              "    <tr>\n",
              "      <th>2</th>\n",
              "      <td>2</td>\n",
              "    </tr>\n",
              "    <tr>\n",
              "      <th>3</th>\n",
              "      <td>2</td>\n",
              "    </tr>\n",
              "    <tr>\n",
              "      <th>4</th>\n",
              "      <td>2</td>\n",
              "    </tr>\n",
              "    <tr>\n",
              "      <th>5</th>\n",
              "      <td>2</td>\n",
              "    </tr>\n",
              "    <tr>\n",
              "      <th>6</th>\n",
              "      <td>2</td>\n",
              "    </tr>\n",
              "    <tr>\n",
              "      <th>7</th>\n",
              "      <td>2</td>\n",
              "    </tr>\n",
              "    <tr>\n",
              "      <th>8</th>\n",
              "      <td>2</td>\n",
              "    </tr>\n",
              "    <tr>\n",
              "      <th>9</th>\n",
              "      <td>2</td>\n",
              "    </tr>\n",
              "    <tr>\n",
              "      <th>10</th>\n",
              "      <td>2</td>\n",
              "    </tr>\n",
              "    <tr>\n",
              "      <th>11</th>\n",
              "      <td>2</td>\n",
              "    </tr>\n",
              "    <tr>\n",
              "      <th>12</th>\n",
              "      <td>2</td>\n",
              "    </tr>\n",
              "    <tr>\n",
              "      <th>13</th>\n",
              "      <td>2</td>\n",
              "    </tr>\n",
              "    <tr>\n",
              "      <th>14</th>\n",
              "      <td>2</td>\n",
              "    </tr>\n",
              "    <tr>\n",
              "      <th>15</th>\n",
              "      <td>2</td>\n",
              "    </tr>\n",
              "  </tbody>\n",
              "</table>\n",
              "</div>"
            ],
            "text/plain": [
              "    0\n",
              "0   2\n",
              "1   2\n",
              "2   2\n",
              "3   2\n",
              "4   2\n",
              "5   2\n",
              "6   2\n",
              "7   2\n",
              "8   2\n",
              "9   2\n",
              "10  2\n",
              "11  2\n",
              "12  2\n",
              "13  2\n",
              "14  2\n",
              "15  2"
            ]
          },
          "metadata": {
            "tags": []
          },
          "execution_count": 134
        }
      ]
    },
    {
      "cell_type": "code",
      "metadata": {
        "colab_type": "code",
        "id": "Y5rvu3kxo2eh",
        "colab": {}
      },
      "source": [
        ""
      ],
      "execution_count": 0,
      "outputs": []
    }
  ]
}